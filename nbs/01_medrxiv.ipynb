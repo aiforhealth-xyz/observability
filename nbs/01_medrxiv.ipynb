{
 "cells": [
  {
   "cell_type": "code",
   "execution_count": null,
   "metadata": {},
   "outputs": [
    {
     "name": "stdout",
     "output_type": "stream",
     "text": [
      "Defaulting to user installation because normal site-packages is not writeable\n",
      "Requirement already satisfied: beautifulsoup4 in /Users/bkowshik/Library/Python/3.9/lib/python/site-packages (4.12.2)\n",
      "Requirement already satisfied: soupsieve>1.2 in /Users/bkowshik/Library/Python/3.9/lib/python/site-packages (from beautifulsoup4) (2.5)\n"
     ]
    }
   ],
   "source": [
    "!pip install beautifulsoup4"
   ]
  },
  {
   "cell_type": "code",
   "execution_count": null,
   "metadata": {},
   "outputs": [],
   "source": [
    "#| hide\n",
    "#| default_exp medrxiv"
   ]
  },
  {
   "cell_type": "markdown",
   "metadata": {},
   "source": [
    "# medRxiv\n",
    "\n",
    "> The preprint server for health sciences."
   ]
  },
  {
   "cell_type": "code",
   "execution_count": null,
   "metadata": {},
   "outputs": [],
   "source": [
    "#| export\n",
    "\n",
    "import warnings\n",
    "warnings.filterwarnings(\"ignore\")\n",
    "\n",
    "import os\n",
    "\n",
    "import pandas as pd\n",
    "import requests\n",
    "from bs4 import BeautifulSoup"
   ]
  },
  {
   "cell_type": "code",
   "execution_count": null,
   "metadata": {},
   "outputs": [],
   "source": []
  },
  {
   "cell_type": "code",
   "execution_count": null,
   "metadata": {},
   "outputs": [],
   "source": [
    "#| export\n",
    "\n",
    "url = \"https://connect.medrxiv.org/medrxiv_xml.php?subject=all\"\n",
    "response = requests.get(url)\n",
    "response.raise_for_status()"
   ]
  },
  {
   "cell_type": "code",
   "execution_count": null,
   "metadata": {},
   "outputs": [],
   "source": [
    "#| export\n",
    "\n",
    "soup = BeautifulSoup(response.content, \"lxml-xml\")\n",
    "items = soup.find_all(\"item\")"
   ]
  },
  {
   "cell_type": "code",
   "execution_count": null,
   "metadata": {},
   "outputs": [],
   "source": [
    "#| export\n",
    "\n",
    "data = []\n",
    "for item in items:\n",
    "    item_data = {}\n",
    "    for child in item.find_all(recursive=False):\n",
    "        tag_name = child.name\n",
    "        tag_value = child.text.strip() if child.text else None\n",
    "        item_data[tag_name] = tag_value\n",
    "    item_data.update(item.attrs)\n",
    "    data.append(item_data)\n",
    "data[0]"
   ]
  },
  {
   "cell_type": "code",
   "execution_count": null,
   "metadata": {},
   "outputs": [],
   "source": [
    "#| export\n",
    "\n",
    "filepath = \"../data/medrxiv.json\"\n",
    "os.makedirs(os.path.dirname(filepath), exist_ok=True)\n",
    "\n",
    "new_data = pd.DataFrame(data)\n",
    "if os.path.exists(filepath):\n",
    "    existing_data = pd.read_json(filepath, lines=True)\n",
    "    combined_data = pd.concat([existing_data, new_data])\n",
    "else:\n",
    "    combined_data = new_data\n",
    "\n",
    "combined_data.drop_duplicates(subset=\"identifier\").to_json(filepath, orient=\"records\", lines=True)\n",
    "print(os.path.abspath(filepath))"
   ]
  },
  {
   "cell_type": "code",
   "execution_count": null,
   "metadata": {},
   "outputs": [],
   "source": []
  },
  {
   "cell_type": "code",
   "execution_count": null,
   "metadata": {},
   "outputs": [],
   "source": [
    "#| hide\n",
    "import nbdev; nbdev.nbdev_export()"
   ]
  },
  {
   "cell_type": "code",
   "execution_count": null,
   "metadata": {},
   "outputs": [],
   "source": []
  }
 ],
 "metadata": {
  "kernelspec": {
   "display_name": "python3",
   "language": "python",
   "name": "python3"
  }
 },
 "nbformat": 4,
 "nbformat_minor": 2
}
