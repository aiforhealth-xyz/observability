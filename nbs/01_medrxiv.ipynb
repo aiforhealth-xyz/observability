{
 "cells": [
  {
   "cell_type": "code",
   "execution_count": null,
   "metadata": {},
   "outputs": [
    {
     "name": "stdout",
     "output_type": "stream",
     "text": [
      "Defaulting to user installation because normal site-packages is not writeable\n",
      "Requirement already satisfied: beautifulsoup4 in /Users/bkowshik/Library/Python/3.9/lib/python/site-packages (4.12.2)\n",
      "Requirement already satisfied: soupsieve>1.2 in /Users/bkowshik/Library/Python/3.9/lib/python/site-packages (from beautifulsoup4) (2.5)\n"
     ]
    }
   ],
   "source": [
    "!pip install beautifulsoup4"
   ]
  },
  {
   "cell_type": "code",
   "execution_count": null,
   "metadata": {},
   "outputs": [],
   "source": [
    "#| hide\n",
    "#| default_exp medrxiv"
   ]
  },
  {
   "cell_type": "markdown",
   "metadata": {},
   "source": [
    "# medRxiv\n",
    "\n",
    "> The preprint server for health sciences."
   ]
  },
  {
   "cell_type": "code",
   "execution_count": null,
   "metadata": {},
   "outputs": [],
   "source": [
    "#| export\n",
    "\n",
    "import warnings\n",
    "warnings.filterwarnings(\"ignore\")\n",
    "\n",
    "import os\n",
    "import logging\n",
    "\n",
    "import pandas as pd\n",
    "import requests\n",
    "from bs4 import BeautifulSoup"
   ]
  },
  {
   "cell_type": "code",
   "execution_count": null,
   "metadata": {},
   "outputs": [],
   "source": [
    "#| export\n",
    "try:\n",
    "    # This will work when running as a script\n",
    "    script_dir = os.path.dirname(os.path.abspath(__file__))\n",
    "except NameError:\n",
    "    # This will work when running in a Jupyter notebook\n",
    "    script_dir = os.getcwd()\n",
    "\n",
    "parent_dir = os.path.abspath(os.path.join(script_dir, os.pardir))\n",
    "log_dir = os.path.join(parent_dir, 'logs')\n",
    "data_dir = os.path.join(parent_dir, 'data')\n",
    "\n",
    "if not os.path.exists(log_dir):\n",
    "    os.makedirs(log_dir)\n",
    "\n",
    "if not os.path.exists(data_dir):\n",
    "    os.makedirs(data_dir)\n",
    "\n",
    "logging.basicConfig(level=logging.INFO, format='%(asctime)s - %(levelname)s - %(message)s', filename=os.path.join(log_dir, 'medrxiv.log'), filemode='a')"
   ]
  },
  {
   "cell_type": "code",
   "execution_count": null,
   "metadata": {},
   "outputs": [],
   "source": [
    "#| export\n",
    "\n",
    "url = \"https://connect.medrxiv.org/medrxiv_xml.php?subject=all\"\n",
    "response = requests.get(url)\n",
    "response.raise_for_status()"
   ]
  },
  {
   "cell_type": "code",
   "execution_count": null,
   "metadata": {},
   "outputs": [],
   "source": [
    "#| export\n",
    "\n",
    "soup = BeautifulSoup(response.content, \"lxml-xml\")\n",
    "items = soup.find_all(\"item\")"
   ]
  },
  {
   "cell_type": "code",
   "execution_count": null,
   "metadata": {},
   "outputs": [
    {
     "data": {
      "text/plain": [
       "{'title': 'Age-related differences in psychopathology within sex chromosome trisomies',\n",
       " 'link': 'http://medrxiv.org/cgi/content/short/2024.11.22.24317803v1?rss=1',\n",
       " 'description': 'Sex chromosome trisomies (SCTs) are a group of genetic disorders characterized by presence of a supernumerary sex chromosome, resulting in karyotypes other than XX or XY. These include XXX (Trisomy X), XXY (Klinefelter syndrome), and XYY (Jacobs syndrome). Sex chromosome trisomies have been linked to increased risk for psychopathology; however, this relationship warrants additional research. Specifically, little is known regarding potential age-related variation in risk for psychopathology and how this may differ across karyotypes and subdomains of psychopathology, which has relevance for psychoeducation, personalized care, and mechanistic research. Thus, we used the Child Behavior Checklist (CBCL) to estimate age-related variation in psychopathology in a large cross-sectional sample of individuals with SCTs (n = 201) and euploidic controls (n = 304) spanning the age range of 5-18 years. We found that elevations of psychopathology in SCT were significantly associated with age in a manner that varied as a combined function of the karyotype and CBCL scale being considered. Post hoc tests revealed there is a uniquely pronounced age-associated increase in severity of social problems in XYY, alongside a lack of statistical evidence for age-related variation in the severity of psychopathology for other CBCL domains and SCT karyotypes. Our findings are relevant for advancing the personalization of clinical assessment and monitoring in SCTs. They also highlight potential windows of dynamic risk emergence for closer clinical and biological study, as well as opportunities to provide intervention to mitigate future risk.',\n",
       " 'creator': 'Roybal, M. R., Liu, S., Larsen, I. G., Wass, A., Schaffer, L., Ajumobi, T., Whitman, E. T., Warling, A., Clasen, L., Blumenthal, J., Rau, S., Raznahan, A.',\n",
       " 'date': '2024-11-23',\n",
       " 'identifier': 'doi:10.1101/2024.11.22.24317803',\n",
       " 'publisher': 'Cold Spring Harbor Laboratory',\n",
       " 'publicationDate': '2024-11-23',\n",
       " 'section': None,\n",
       " 'rdf:about': 'http://medrxiv.org/cgi/content/short/2024.11.22.24317803v1?rss=1'}"
      ]
     },
     "execution_count": null,
     "metadata": {},
     "output_type": "execute_result"
    }
   ],
   "source": [
    "#| export\n",
    "\n",
    "data = []\n",
    "for item in items:\n",
    "    item_data = {}\n",
    "    for child in item.find_all(recursive=False):\n",
    "        tag_name = child.name\n",
    "        tag_value = child.text.strip() if child.text else None\n",
    "        item_data[tag_name] = tag_value\n",
    "    item_data.update(item.attrs)\n",
    "    data.append(item_data)\n",
    "data[0]"
   ]
  },
  {
   "cell_type": "code",
   "execution_count": null,
   "metadata": {},
   "outputs": [],
   "source": [
    "#| export\n",
    "\n",
    "filepath = os.path.join(data_dir, \"medrxiv.jsonl\")\n",
    "\n",
    "new_data = pd.DataFrame(data)\n",
    "if os.path.exists(filepath):\n",
    "    existing_data = pd.read_json(filepath, lines=True)\n",
    "    combined_data = pd.concat([existing_data, new_data])\n",
    "else:\n",
    "    combined_data = new_data\n",
    "\n",
    "deduplicated = combined_data.drop_duplicates(subset=\"identifier\")\n",
    "deduplicated.to_json(filepath, orient=\"records\", lines=True)\n",
    "logging.info('Total number of records: {}'.format(deduplicated.shape[0]))"
   ]
  },
  {
   "cell_type": "code",
   "execution_count": null,
   "metadata": {},
   "outputs": [],
   "source": [
    "#| hide\n",
    "import nbdev; nbdev.nbdev_export()"
   ]
  },
  {
   "cell_type": "code",
   "execution_count": null,
   "metadata": {},
   "outputs": [],
   "source": []
  }
 ],
 "metadata": {
  "kernelspec": {
   "display_name": "python3",
   "language": "python",
   "name": "python3"
  }
 },
 "nbformat": 4,
 "nbformat_minor": 2
}
